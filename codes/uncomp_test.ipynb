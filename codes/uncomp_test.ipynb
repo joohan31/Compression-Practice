{
 "cells": [
  {
   "cell_type": "code",
   "execution_count": 1,
   "id": "909b10a8",
   "metadata": {},
   "outputs": [
    {
     "name": "stdout",
     "output_type": "stream",
     "text": [
      "--> Start...\n",
      "--> CSV to Numpy data set\n",
      "--> Numpy data set shape: (1752, 12)\n",
      "[[ 134927.  -42927.  693436. ...  113816. -591585.  458060.]\n",
      " [ 134787.  -26018.  674826. ...   38327. -371247.  195384.]\n",
      " [ 134560.  -16029.  668015. ... -170364. -272391.  -87289.]\n",
      " ...\n",
      " [ 456352.  104007. 2436522. ... -229183. -377537.  140958.]\n",
      " [ 476170.   94186. 2430839. ... -246089. -449667.  126569.]\n",
      " [1393205. -690969.    2936. ...  181078.  407092.  -80518.]]\n",
      "--> BDI Uncompression Start\n",
      "--> Numpy data set shape: (1751, 12)\n",
      "[[ 1.528132 -0.733896  0.696372 ...  0.294894 -0.184493  0.377542]\n",
      " [ 1.527992 -0.716987  0.677762 ...  0.219405  0.035845  0.114866]\n",
      " [ 1.527765 -0.706998  0.670951 ...  0.010714  0.134701 -0.167807]\n",
      " ...\n",
      " [ 1.830821 -0.578367  2.447967 ... -0.08559  -0.030208 -0.08774 ]\n",
      " [ 1.849557 -0.586962  2.439458 ... -0.048105  0.029555  0.06044 ]\n",
      " [ 1.869375 -0.596783  2.433775 ... -0.065011 -0.042575  0.046051]]\n",
      "--> Numpy to CSV\n"
     ]
    }
   ],
   "source": [
    "import numpy as np\n",
    "import pandas as pd\n",
    "##_____________________________\n",
    "\n",
    "# make_data_set 함수: csv 파일을 numpy로 반환 \n",
    "def make_data_set(num_features, act, trial, sub_id):\n",
    "    data_set = np.zeros((0, num_features))\n",
    "    fname = 'A_DeviceMotion_data/' + act + '_' + str(trial) + '/sub_' + str(sub_id)+'_comp.csv' # 압축한 파일을 불러오도록 설정\n",
    "    raw_data = pd.read_csv(fname)\n",
    "    raw_data = raw_data.drop(['Unnamed: 0'], axis=1)\n",
    "    unlabel_data = raw_data.values\n",
    "    data_set = np.append(data_set, unlabel_data, axis = 0)\n",
    "    return data_set, list(raw_data.columns)\n",
    "#________________________________\n",
    "\n",
    "# bdi_uncomp 함수: BDI로 압축 해제한 numpy를 반환\n",
    "def bdi_uncomp(after_bdi):\n",
    "    bdi = after_bdi\n",
    "\n",
    "    ## base와 immediate로 원본값 복구, base 삭제\n",
    "    for i in range(bdi.shape[1]):\n",
    "        for j in range(bdi.shape[0] - 1):\n",
    "            bdi[j, i] = bdi[-1, i] + bdi[j, i]\n",
    "    bdi = np.delete(bdi, -1, axis=0)\n",
    "\n",
    "    ## 정수형(int)으로 변환했던 값을 다시 소수형(float)으로\n",
    "    bdi = bdi / 1000000\n",
    "\n",
    "    return bdi\n",
    "#________________________________\n",
    "\n",
    "print(\"--> Start...\")\n",
    "## 불러올 csv 파일의 이름 및 위치를 정한다\n",
    "num_features = 12 # attitude(roll, pitch, yaw); gravity(x, y, z); rotationRate(x, y, z); userAcceleration(x,y,z)\n",
    "act = \"dws\" # dws, ups, wlk, jog, sit, std\n",
    "trial = 1 # 0 ~ 16\n",
    "sub_id = 1 # 1 ~ 24\n",
    "\n",
    "## make_data_set으로 csv 파일을 ds 변수에 저장\n",
    "print(\"--> CSV to Numpy data set\")\n",
    "ds, columns_list = make_data_set(num_features, act, trial, sub_id)\n",
    "print(\"--> Numpy data set shape:\", ds.shape)\n",
    "print(ds)\n",
    "\n",
    "# bdi_uncomp로 BDI 압축 해제\n",
    "print(\"--> BDI Uncompression Start\")\n",
    "raw_ds = bdi_uncomp(ds)\n",
    "print(\"--> Numpy data set shape:\", raw_ds.shape)\n",
    "print(raw_ds)\n",
    "\n",
    "## numpy를 csv 파일로 저장\n",
    "print(\"--> Numpy to CSV\")\n",
    "pd.DataFrame(raw_ds).to_csv('A_DeviceMotion_data/' + act + '_' + str(trial) + '/sub_' + str(sub_id)+'_uncomp.csv', header=columns_list, index=1)"
   ]
  }
 ],
 "metadata": {
  "kernelspec": {
   "display_name": "Python 3",
   "language": "python",
   "name": "python3"
  },
  "language_info": {
   "codemirror_mode": {
    "name": "ipython",
    "version": 3
   },
   "file_extension": ".py",
   "mimetype": "text/x-python",
   "name": "python",
   "nbconvert_exporter": "python",
   "pygments_lexer": "ipython3",
   "version": "3.11.9"
  }
 },
 "nbformat": 4,
 "nbformat_minor": 5
}
