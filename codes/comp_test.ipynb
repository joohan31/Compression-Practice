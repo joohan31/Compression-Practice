{
 "cells": [
  {
   "cell_type": "code",
   "execution_count": 2,
   "id": "aba3f55e",
   "metadata": {},
   "outputs": [
    {
     "name": "stdout",
     "output_type": "stream",
     "text": [
      "--> Start...\n",
      "--> CSV to Numpy data set\n",
      "--> Numpy data set shape: (1751, 12)\n",
      "[[ 1.528132 -0.733896  0.696372 ...  0.294894 -0.184493  0.377542]\n",
      " [ 1.527992 -0.716987  0.677762 ...  0.219405  0.035846  0.114866]\n",
      " [ 1.527765 -0.706999  0.670951 ...  0.010714  0.134701 -0.167808]\n",
      " ...\n",
      " [ 1.830821 -0.578367  2.447967 ... -0.08559  -0.030209 -0.08774 ]\n",
      " [ 1.849557 -0.586962  2.439458 ... -0.048105  0.029555  0.060441]\n",
      " [ 1.869375 -0.596783  2.433775 ... -0.065011 -0.042575  0.046052]]\n",
      "--> BDI Compression Start\n",
      "--> Numpy data set shape: (1752, 12)\n",
      "[[ 134927  -42927  693436 ...  113816 -591585  458060]\n",
      " [ 134787  -26018  674826 ...   38327 -371247  195384]\n",
      " [ 134560  -16029  668015 ... -170364 -272391  -87289]\n",
      " ...\n",
      " [ 456352  104007 2436522 ... -229183 -377537  140958]\n",
      " [ 476170   94186 2430839 ... -246089 -449667  126569]\n",
      " [1393205 -690969    2936 ...  181078  407092  -80518]]\n",
      "--> Numpy to CSV\n"
     ]
    }
   ],
   "source": [
    "import numpy as np\n",
    "import pandas as pd\n",
    "##_____________________________\n",
    "\n",
    "# make_data_set 함수: csv 파일을 numpy로 반환, 추가로 csv 파일의 열 이름도 반환\n",
    "def make_data_set(num_features, act, trial, sub_id):\n",
    "    data_set = np.zeros((0, num_features))\n",
    "    fname = 'A_DeviceMotion_data/' + act + '_' + str(trial) + '/sub_' + str(sub_id)+'.csv'\n",
    "    raw_data = pd.read_csv(fname)\n",
    "    raw_data = raw_data.drop(['Unnamed: 0'], axis=1)\n",
    "    unlabel_data = raw_data.values\n",
    "    data_set = np.append(data_set, unlabel_data, axis = 0)\n",
    "    pd.DataFrame(data_set).to_csv('A_DeviceMotion_data/' + act + '_' + str(trial) + '/sub_' + str(sub_id)+'_origin.csv', header=raw_data.columns, index=1)\n",
    "    return data_set, list(raw_data.columns)\n",
    "#________________________________\n",
    "\n",
    "# bdi_comp 함수: BDI로 압축한 numpy를 반환\n",
    "def bdi_comp(before_bdi):\n",
    "    ## float 형식의 변수를 int로 바꾸기 위해 1000000을 곱해준다\n",
    "    bdi = before_bdi * 1000000\n",
    "    bdi = bdi.astype(int)\n",
    "\n",
    "    ## 각 열의 최대값과 최소값의 평균을 base로 설정하고, immediate 계산\n",
    "    base_list = []\n",
    "    for i in range(bdi.shape[1]):\n",
    "        base = round((np.max(bdi[:, i]) + np.min(bdi[:, i])) / 2)\n",
    "        base_list.append(base)\n",
    "        for j in range(bdi.shape[0]):\n",
    "            bdi[j, i] = bdi[j, i] - base\n",
    "\n",
    "    ## 마지막 행에 각 열의 base 값을 추가\n",
    "    bdi = np.append(bdi, np.array(base_list).reshape(1, -1), axis=0)\n",
    "    return bdi\n",
    "#________________________________\n",
    "\n",
    "print(\"--> Start...\")\n",
    "## 불러올 csv 파일의 이름 및 위치를 정한다\n",
    "num_features = 12 # attitude(roll, pitch, yaw); gravity(x, y, z); rotationRate(x, y, z); userAcceleration(x,y,z)\n",
    "act = \"dws\" # dws, ups, wlk, jog, sit, std\n",
    "trial = 1 # 0 ~ 16\n",
    "sub_id = 1 # 1 ~ 24\n",
    "\n",
    "## make_data_set으로 csv 파일을 ds 변수에 저장\n",
    "print(\"--> CSV to Numpy data set\")\n",
    "ds, columns_list = make_data_set(num_features, act, trial, sub_id)\n",
    "print(\"--> Numpy data set shape:\", ds.shape)\n",
    "print(ds)\n",
    "\n",
    "## bdi_comp로 BDI 압축 실행\n",
    "print(\"--> BDI Compression Start\")\n",
    "bdi_ds = bdi_comp(ds)\n",
    "print(\"--> Numpy data set shape:\", bdi_ds.shape)\n",
    "print(bdi_ds)\n",
    "\n",
    "## numpy를 csv 파일로 저장\n",
    "print(\"--> Numpy to CSV\")\n",
    "pd.DataFrame(bdi_ds).to_csv('A_DeviceMotion_data/' + act + '_' + str(trial) + '/sub_' + str(sub_id)+'_comp.csv', header=columns_list, index=1)"
   ]
  },
  {
   "cell_type": "code",
   "execution_count": null,
   "id": "30d02559",
   "metadata": {},
   "outputs": [],
   "source": []
  }
 ],
 "metadata": {
  "kernelspec": {
   "display_name": "Python 3",
   "language": "python",
   "name": "python3"
  },
  "language_info": {
   "codemirror_mode": {
    "name": "ipython",
    "version": 3
   },
   "file_extension": ".py",
   "mimetype": "text/x-python",
   "name": "python",
   "nbconvert_exporter": "python",
   "pygments_lexer": "ipython3",
   "version": "3.11.9"
  }
 },
 "nbformat": 4,
 "nbformat_minor": 5
}
